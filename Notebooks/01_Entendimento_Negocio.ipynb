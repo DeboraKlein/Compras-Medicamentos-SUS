{
 "cells": [
  {
   "cell_type": "markdown",
   "id": "c90ae881",
   "metadata": {},
   "source": [
    "### 1.2. Definição do Problema e Fontes de Dados\n",
    "\n",
    "A força do projeto reside na utilização e enriquecimento dos dados públicos para gerar inteligência de mercado que, historicamente, é de difícil acesso à gestão pública.\n",
    "\n",
    "#### Fonte Primária de Dados\n",
    "\n",
    "| Fonte | Período de Cobertura | Uso no Projeto | \n",
    "| :--- | :--- | :--- |\n",
    "| **OpenDataSUS - BPS** | 2020 a 2025 | Fornece o volume, o preço unitário, as datas, os fornecedores e as instituições envolvidas nas transações de compra de medicamentos. |\n",
    "\n",
    "\n",
    "#### Metas do Projeto\n",
    "\n",
    "O objetivo final é disponibilizar um Painel de Análise (Data Mart/Power BI) baseado em um Star Schema otimizado, que responda às seguintes questões-chave do negócio:\n",
    "\n",
    " - Onde está o sobrepreço? (Identificação por Z-Score de Risco e Desvio % Oportunidade).\n",
    "\n",
    " - Quais produtos são instáveis? (Medição por Risco de Intermitência na demanda).\n",
    "\n",
    " - Quão vulnerável é a cadeia? (Medição por Concentração de Fornecedor).\n",
    "\n",
    " - Onde devo focar meus esforços? (Medição por Índice de Priorização)."
   ]
  },
  {
   "cell_type": "markdown",
   "id": "142d69dc",
   "metadata": {},
   "source": [
    "### 1.3. Critérios de Sucesso e Roadmap Futuro\n",
    "\n",
    "O sucesso do projeto é medido pela sua capacidade de entregar um ambiente analítico auditável, eficiente e escalável.\n",
    "\n",
    "#### Critérios de Sucesso (Curto Prazo)\n",
    "\n",
    "| Critério | Medida de Sucesso | Entregável de Engenharia |\n",
    "| :--- | :--- | :--- |\n",
    "| **Economicidade** | Quantificação do Potencial de Economia (R$) em transações com preço acima do benchmark mediano. | Coluna Economia_por_Linha na Tabela Fato. |\n",
    "| **Eficiência** | Tempo de processamento do pipeline completo (main.py) e alta velocidade de consulta no Power BI. | Orquestrador Central (main.py) e Star Schema otimizado. |\n",
    "| **Integridade** | Taxa de Unicidade e Completude de dados críticos após o ETL. | Métricas de Qualidade de Dados (Documentadas no Glossário). |"
   ]
  },
  {
   "cell_type": "markdown",
   "id": "3b279a2c",
   "metadata": {},
   "source": []
  }
 ],
 "metadata": {
  "language_info": {
   "name": "python"
  }
 },
 "nbformat": 4,
 "nbformat_minor": 5
}
