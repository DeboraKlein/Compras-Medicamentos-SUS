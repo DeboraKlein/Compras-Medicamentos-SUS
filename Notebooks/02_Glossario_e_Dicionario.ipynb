{
 "cells": [
  {
   "cell_type": "markdown",
   "id": "194a90ea",
   "metadata": {},
   "source": [
    "# Glossário de Termos e Dicionário de Dados\n",
    "\n",
    "## 1. Métricas Chave do Dashboard (Cálculos de Preço)\n",
    "\n",
    "| Termo | Definição | Base de Cálculo |\n",
    "| :--- | :--- | :--- |\n",
    "| **PMP Pago** | Preço Médio Ponderado pago em uma transação. A métrica de performance do comprador. | $\\text{PMP Pago} = \\frac{\\sum(\\text{Preço Total})}{\\sum(\\text{Qtd. Itens})}$ |\n",
    "| **PMP Referência Mediana** | O *Benchmark* dinâmico de preço. É a **Mediana** dos preços por produto e mês/período. Mais robusto que a Média, pois elimina o impacto de *outliers*. | Calculado via *mini_fato_radar_oportunidades*. |\n",
    "| **Potencial Economia (R\\$)** | O valor total que foi negociado abaixo do PMP de Referência Mediana. | $\\text{PMP Referência} - \\text{PMP Pago}$ (quando positivo) |\n",
    "| **Desvio % Fornecedor** | Indica a variação percentual do preço de um fornecedor específico em relação ao PMP Referência Mediana. Métrica crucial para o **Drill-Through** de investigação. | $\\text{DAX: } \\frac{\\text{[PMP Pago] - [PMP Referencia Mediana]}}{\\text{[PMP Referencia Mediana]}}$ |\n",
    "\n",
    "## 2. Termos do Dataset e Nomenclaturas\n",
    "\n",
    "| Termo | Descrição | Uso no Projeto |\n",
    "| :--- | :--- | :--- |\n",
    "| **Código BR** | Código oficial de identificação do produto usado no OpenDataSUS (ou fonte oficial de origem). | Usado como a chave primária da Dimensão Produto. |\n",
    "| **CATMAT** | Classificação Comum de Materiais (do SISMAD). | Presente no *tooltip* para detalhar a descrição do produto. |\n",
    "| **Mini Fato Radar** | Tabela auxiliar criada no ETL para armazenar as colunas pré-calculadas: **PMP Mediano**, **Z-Score** e **Economia por Linha**. | Usado para alimentar as métricas do Dashboard de Risco/Oportunidade. |\n",
    "| **Drill-Through** | Funcionalidade do Power BI que permite ao usuário clicar em um ponto do mapa ou da tabela e ser levado à página de investigação detalhada. | Focado na investigação do Fornecedor, Fabricante e Modalidade de Compra, com o **Desvio % Fornecedor** como indicador principal. |\n",
    "| **Tooltip** | Janela pop-up que aparece ao passar o mouse sobre um visual, contendo dados adicionais de contexto (ex: Descrição CATMAT, Nome e CNPJ do Fabricante/Fornecedor). | Essencial para fornecer contexto sem sobrecarregar o visual principal. |"
   ]
  },
  {
   "cell_type": "code",
   "execution_count": null,
   "id": "f6fa867f",
   "metadata": {},
   "outputs": [],
   "source": []
  }
 ],
 "metadata": {
  "language_info": {
   "name": "python"
  }
 },
 "nbformat": 4,
 "nbformat_minor": 5
}
