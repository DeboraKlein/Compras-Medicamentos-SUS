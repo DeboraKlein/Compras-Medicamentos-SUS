{
 "cells": [
  {
   "cell_type": "markdown",
   "id": "3a05b0b4",
   "metadata": {},
   "source": [
    "# ENRIQUECIMENTO E FEATURE ENGINEERING (modelagem_dim.py)\n",
    "\n",
    "### 5.1. Justificativa Técnica e Abordagem Profissional\n",
    "\n",
    "O script `modelagem_dim.py` vai além da criação de dimensões, focando na **Geração de Indicadores Estratégicos** (Feature Engineering). Estes indicadores são essenciais para transformar o volume de transações em informações acionáveis para gestão de preços e demanda.\n",
    "\n",
    "| Desafio Analítico | Solução Profissional Implementada | Justificativa |\n",
    "| :--- | :--- | :--- |\n",
    "| **Identificação de Outliers de Preço** | Cálculo do Z-Score para PMP (Preço Médio Ponderado) por produto e ano. | **Padronização:** Transforma valores monetários brutos em uma métrica de desvio padronizada, ideal para identificar preços atípicos (alto risco). |\n",
    "| **Risco de Demanda** - Intermitência e Sazonalidade | Cálculo do Risco de Intermitência (Meses Comprados / Período Total). | **Previsibilidade:** Quantifica a instabilidade da demanda, alertando para produtos com histórico de compras irregulares. |\n",
    "| **Risco de Dependência** | Concentração de Gasto no Fornecedor Principal. | **Governança:** Mede a vulnerabilidade da cadeia de suprimentos, crucial para planejar a diversificação de fornecedores. |\n",
    "| **Priorização de Ação Gerencial** | Índice de Priorização (50% Risco + 50% Demanda). | **Foco:** Cria uma métrica única que ranqueia produtos por criticidade, direcionando esforços de negociação e gestão para onde o risco financeiro é maior. |"
   ]
  },
  {
   "cell_type": "markdown",
   "id": "5b7865c0",
   "metadata": {},
   "source": [
    "### 5.2. Etapas do Enriquecimento Estratégico\n",
    "\n",
    "O pipeline de enriquecimento é acionado após a consolidação dos dados e antes da criação das tabelas Fato finais.\n",
    "\n",
    "| Etapa | Método | Justificativa Técnica |\n",
    "| :--- | :--- | :--- |\n",
    "| **1. Estrutura e ID Único** | `gerar_id_pedido` | Cria a Chave Primária (`id_pedido`) para cada linha de transação (hash MD5) e realiza a limpeza de colunas residuais, garantindo a unicidade e integridade da Tabela Fato. |\n",
    "| **2. Risco de Preço (Z-Score)** | `calcular_zscore_risco` | Calcula o desvio do PMP individual em relação ao PMP médio do mercado (produto/ano). Utiliza a função `transform` do Pandas para cálculo eficiente no grupo sem necessidade de *merge*. |\n",
    "| **3. Risco de Demanda** | `calcular_risco_intermitencia` | Avalia a estabilidade de compra de um produto, calculando a frequência de meses em que ele foi adquirido em relação ao período total de histórico. |\n",
    "| **4. Risco de Dependência** | `calcular_concentracao_fornecedor` | Calcula a proporção do gasto total de um produto que está nas mãos do seu principal fornecedor, sinalizando risco de monopólio ou dependência. |\n",
    "| **5. Priorização** | `calcular_indice_priorizacao` | Normaliza e combina o Risco (Z-Score absoluto) e a Demanda (Gasto Total) em um único índice. Define quais produtos (alto risco e alto valor) devem ser priorizados pela gestão. |\n",
    "| **6. Radar de Oportunidades** | `gerar_mini_fato_radar_enriquecida` | Cria uma Tabela Fato auxiliar especializada em *benchmarking*. Calcula o **PMP Mediano Dinâmico** (mais robusto que a média) e o Desvio de Oportunidade/Potencial Economia. |"
   ]
  },
  {
   "cell_type": "markdown",
   "id": "78f84e87",
   "metadata": {},
   "source": [
    "### 5.3. Benefícios e Implicação (Radar de Oportunidades)\n",
    "\n",
    "A criação da **Tabela Fato Radar** (Mini Fato Enriquecida) é o ponto de contato do *Data Engineering* com a Análise de Oportunidades do Projeto.\n",
    "\n",
    "| Indicador Analítico | Benefício Estratégico para o Projeto | Implicação na Gestão Pública |\n",
    "| :--- | :--- | :--- |\n",
    "| **PMP Benchmark (Mediano)** | O uso da Mediana anula o impacto de *outliers* extremos (preços muito altos ou muito baixos), fornecendo uma referência de preço de mercado mais estável e confiável. | Base factual e inquestionável para negociação de novos contratos e auditoria de compras passadas. |\n",
    "| **Desvio % Oportunidade** | Quantifica, em porcentagem, o quão acima ou abaixo o PMP pago em uma transação está em relação ao *Benchmark* Mediano do seu contexto (produto/instituição/tempo). | Permite ranquear as compras com maior desvio (positivo ou negativo) para investigação imediata. |\n",
    "| **Economia por Linha** | Projeta o potencial de economia ao multiplicar o Desvio do Preço pela quantidade comprada. | Cria um valor de negócio tangível (em Reais) que pode ser utilizado para provar o Retorno sobre o Investimento (ROI) da solução analítica. |"
   ]
  },
  {
   "cell_type": "markdown",
   "id": "a4339680",
   "metadata": {},
   "source": [
    "### 5.4. Embasamento Legal e Teórico das Métricas\n",
    "\n",
    "O poder analítico das *features* criadas em `modelagem_dim.py` não é apenas estatístico; ele é diretamente suportado pela legislação brasileira de Compras Públicas, diretrizes de controle e princípios de Governança.\n",
    "\n",
    "| Métrica Gerada | Fundamentação Legal / Teórica | Implicação Estratégica |\n",
    "| :--- | :--- | :--- |\n",
    "| **PMP Mediano Dinâmico** | **IN SEGES/ME Nº 73/2022 (Pesquisa de Preços)** e Acórdãos do TCU que recomendam a **mediana** para afastar *outliers*. | Fornece um **preço de referência de mercado** estatisticamente robusto, crucial para comprovar a **economicidade** da compra, conforme exigido pela Lei nº 14.133/2021 (Art. 23, § 1º). |\n",
    "| **Z-Score e Desvio % Oportunidade** | **Nova Lei de Licitações (Lei nº 14.133/2021 - Art. 11, VII, b)** e **Governança de Riscos**. | O desvio (Z-Score) sinaliza um **Risco de Preço** alto. É um *Alerta de Governança* que direciona auditoria para compras com potencial sobrepreço ou subpreço, alinhado à gestão de riscos. |\n",
    "| **Risco de Intermitência** | **Princípio da Eficiência (Constituição Federal)** e literatura de **Supply Chain Management (SCM)** na Saúde. | Quantifica a instabilidade da demanda. Permite planejar a logística e o estoque de forma diferenciada, mitigando o risco de desabastecimento, uma falha de eficiência grave em Saúde Pública. |\n",
    "| **Concentração de Fornecedor** | **Nova Lei de Licitações (Lei nº 14.133/2021 - Art. 11)** e diretrizes de **Governança Pública** (Gestão de Riscos e Integridade). | Mede a **vulnerabilidade da cadeia de suprimentos**. Altas concentrações exigem planos de contingência, reduzindo o risco de paralisação de fornecimento ou abuso de preços pelo fornecedor dominante. |\n",
    "| **Índice de Priorização** | **Análise de Portfólio (Matriz Kraljic)**, adaptada para o setor público (Volume vs. Risco). | Combina **Risco** (Z-Score) e **Impacto Financeiro** (Gasto Total) em um único *score*. É a ferramenta gerencial que indica onde o esforço de negociação terá o maior retorno sobre o investimento. |\n",
    "\n",
    "---\n",
    "\n",
    "Com esta célula adicionada, a documentação da sua modelagem atinge o nível de **documentação técnica-estratégica**, elevando a qualidade do seu projeto.\n",
    "\n",
    "**Próximo Passo:** Vamos para a criação das tabelas Fato e Dimensão finais."
   ]
  },
  {
   "cell_type": "code",
   "execution_count": null,
   "id": "a565570b",
   "metadata": {},
   "outputs": [
    {
     "data": {
      "text/markdown": [
       "#  CARREGANDO TABELA PARA MODELAGEM: compras_consolidado_final.csv"
      ],
      "text/plain": [
       "<IPython.core.display.Markdown object>"
      ]
     },
     "metadata": {},
     "output_type": "display_data"
    },
    {
     "data": {
      "text/markdown": [
       " **TABELA CARREGADA COM SUCESSO!**"
      ],
      "text/plain": [
       "<IPython.core.display.Markdown object>"
      ]
     },
     "metadata": {},
     "output_type": "display_data"
    },
    {
     "data": {
      "text/markdown": [
       " **Total de registros:** 263,562"
      ],
      "text/plain": [
       "<IPython.core.display.Markdown object>"
      ]
     },
     "metadata": {},
     "output_type": "display_data"
    },
    {
     "data": {
      "text/markdown": [
       " **Total de colunas:** 26"
      ],
      "text/plain": [
       "<IPython.core.display.Markdown object>"
      ]
     },
     "metadata": {},
     "output_type": "display_data"
    },
    {
     "data": {
      "text/markdown": [
       "###  Informações do Dataset:"
      ],
      "text/plain": [
       "<IPython.core.display.Markdown object>"
      ]
     },
     "metadata": {},
     "output_type": "display_data"
    },
    {
     "data": {
      "application/vnd.microsoft.datawrangler.viewer.v0+json": {
       "columns": [
        {
         "name": "index",
         "rawType": "int64",
         "type": "integer"
        },
        {
         "name": "Métrica",
         "rawType": "object",
         "type": "string"
        },
        {
         "name": "Valor",
         "rawType": "object",
         "type": "string"
        }
       ],
       "ref": "b12ddd95-518d-4808-b5fd-d92fff0d6f28",
       "rows": [
        [
         "0",
         "Registros",
         "263,562"
        ],
        [
         "1",
         "Colunas",
         "26"
        ],
        [
         "2",
         "Produtos Únicos",
         "11,143"
        ],
        [
         "3",
         "Fornecedores Únicos",
         "3,110"
        ],
        [
         "4",
         "Instituições Únicas",
         "761"
        ],
        [
         "5",
         "Período",
         "2020-01-01 a 2025-05-15"
        ],
        [
         "6",
         "Valor Total",
         "R$ 75,242,099,052.52"
        ]
       ],
       "shape": {
        "columns": 2,
        "rows": 7
       }
      },
      "text/html": [
       "<div>\n",
       "<style scoped>\n",
       "    .dataframe tbody tr th:only-of-type {\n",
       "        vertical-align: middle;\n",
       "    }\n",
       "\n",
       "    .dataframe tbody tr th {\n",
       "        vertical-align: top;\n",
       "    }\n",
       "\n",
       "    .dataframe thead th {\n",
       "        text-align: right;\n",
       "    }\n",
       "</style>\n",
       "<table border=\"1\" class=\"dataframe\">\n",
       "  <thead>\n",
       "    <tr style=\"text-align: right;\">\n",
       "      <th></th>\n",
       "      <th>Métrica</th>\n",
       "      <th>Valor</th>\n",
       "    </tr>\n",
       "  </thead>\n",
       "  <tbody>\n",
       "    <tr>\n",
       "      <th>0</th>\n",
       "      <td>Registros</td>\n",
       "      <td>263,562</td>\n",
       "    </tr>\n",
       "    <tr>\n",
       "      <th>1</th>\n",
       "      <td>Colunas</td>\n",
       "      <td>26</td>\n",
       "    </tr>\n",
       "    <tr>\n",
       "      <th>2</th>\n",
       "      <td>Produtos Únicos</td>\n",
       "      <td>11,143</td>\n",
       "    </tr>\n",
       "    <tr>\n",
       "      <th>3</th>\n",
       "      <td>Fornecedores Únicos</td>\n",
       "      <td>3,110</td>\n",
       "    </tr>\n",
       "    <tr>\n",
       "      <th>4</th>\n",
       "      <td>Instituições Únicas</td>\n",
       "      <td>761</td>\n",
       "    </tr>\n",
       "    <tr>\n",
       "      <th>5</th>\n",
       "      <td>Período</td>\n",
       "      <td>2020-01-01 a 2025-05-15</td>\n",
       "    </tr>\n",
       "    <tr>\n",
       "      <th>6</th>\n",
       "      <td>Valor Total</td>\n",
       "      <td>R$ 75,242,099,052.52</td>\n",
       "    </tr>\n",
       "  </tbody>\n",
       "</table>\n",
       "</div>"
      ],
      "text/plain": [
       "               Métrica                    Valor\n",
       "0            Registros                  263,562\n",
       "1              Colunas                       26\n",
       "2      Produtos Únicos                   11,143\n",
       "3  Fornecedores Únicos                    3,110\n",
       "4  Instituições Únicas                      761\n",
       "5              Período  2020-01-01 a 2025-05-15\n",
       "6          Valor Total     R$ 75,242,099,052.52"
      ]
     },
     "metadata": {},
     "output_type": "display_data"
    },
    {
     "data": {
      "text/markdown": [
       "###  Prévia dos Dados:"
      ],
      "text/plain": [
       "<IPython.core.display.Markdown object>"
      ]
     },
     "metadata": {},
     "output_type": "display_data"
    },
    {
     "data": {
      "application/vnd.microsoft.datawrangler.viewer.v0+json": {
       "columns": [
        {
         "name": "index",
         "rawType": "int64",
         "type": "integer"
        },
        {
         "name": "id_pedido",
         "rawType": "object",
         "type": "string"
        },
        {
         "name": "ano_compra",
         "rawType": "int64",
         "type": "integer"
        },
        {
         "name": "nome_instituicao",
         "rawType": "object",
         "type": "string"
        },
        {
         "name": "cnpj_instituicao",
         "rawType": "int64",
         "type": "integer"
        },
        {
         "name": "municipio_instituicao",
         "rawType": "object",
         "type": "string"
        },
        {
         "name": "uf",
         "rawType": "object",
         "type": "string"
        },
        {
         "name": "compra",
         "rawType": "datetime64[ns]",
         "type": "datetime"
        },
        {
         "name": "insercao",
         "rawType": "object",
         "type": "string"
        },
        {
         "name": "codigo_br",
         "rawType": "int64",
         "type": "integer"
        },
        {
         "name": "descricao_catmat",
         "rawType": "object",
         "type": "string"
        },
        {
         "name": "generico",
         "rawType": "object",
         "type": "string"
        },
        {
         "name": "anvisa",
         "rawType": "float64",
         "type": "float"
        },
        {
         "name": "modalidade_compra",
         "rawType": "object",
         "type": "string"
        },
        {
         "name": "tipo_compra",
         "rawType": "object",
         "type": "string"
        },
        {
         "name": "cnpj_fornecedor",
         "rawType": "int64",
         "type": "integer"
        },
        {
         "name": "fornecedor",
         "rawType": "object",
         "type": "string"
        },
        {
         "name": "cnpj_fabricante",
         "rawType": "int64",
         "type": "integer"
        },
        {
         "name": "fabricante",
         "rawType": "object",
         "type": "string"
        },
        {
         "name": "qtd_itens_comprados",
         "rawType": "int64",
         "type": "integer"
        },
        {
         "name": "preco_unitario",
         "rawType": "float64",
         "type": "float"
        },
        {
         "name": "preco_total",
         "rawType": "float64",
         "type": "float"
        },
        {
         "name": "unidade_fornecimento",
         "rawType": "object",
         "type": "string"
        },
        {
         "name": "pmp_individual",
         "rawType": "float64",
         "type": "float"
        },
        {
         "name": "pmp_medio",
         "rawType": "float64",
         "type": "float"
        },
        {
         "name": "pmp_desvio_padrao",
         "rawType": "float64",
         "type": "float"
        },
        {
         "name": "score_z_risco",
         "rawType": "float64",
         "type": "float"
        }
       ],
       "ref": "b9a96a7f-64fc-4010-96e0-2b36142b67e9",
       "rows": [
        [
         "0",
         "6482ef28f6d9f1f4ec1b83b6e9b2172b",
         "2020",
         "FUNDO MUNICIPAL DE SAUDE - MUNICIPIO DE ALTO PARANA",
         "8533932000101",
         "ALTO PARANA",
         "PR",
         "2020-01-01 00:00:00",
         "2020-03-13",
         "243488",
         "BOLSA VENTILAÇÃO PULMONAR, MATERIAL:BORRACHA, CAPACIDADE:1 L, APLICAÇÃO:VENTILAÇÃO / REINALAÇÃO",
         "NÃO",
         null,
         "Pregão",
         "ADMINISTRATIVA",
         "6974929000106",
         "NOROESTE MEDICAMENTO LTDA - EPP",
         "73856593000166",
         "PRATI, DONADUZZI E CIA LTDA",
         "3",
         "6.9",
         "20.700000000000003",
         "UNIDADE            ",
         "6.900000000000001",
         "31.925000000000004",
         "35.390694398386714",
         "-0.71"
        ],
        [
         "1",
         "df750bba9e0ccdd2c3b126b93af11c0f",
         "2020",
         "MUNICIPIO DE AMERICO BRASILIENSE",
         "43976166000150",
         "AMERICO BRASILIENSE",
         "SP",
         "2020-01-01 00:00:00",
         "2020-10-06",
         "267565",
         "CARVEDILOL, DOSAGEM:6,25 MG",
         "NÃO",
         "1014600650060.0",
         "Pregão",
         "ADMINISTRATIVA",
         "1140868000150",
         "CIRURGICA OLIMPIO - EIRELI - EPP",
         "61150447000131",
         "LABORATÓRIOS BALDACCI S/A",
         "36000",
         "0.086",
         "3095.9999999999995",
         "COMPRIMIDO         ",
         "0.086",
         "0.3014382165605095",
         "1.2578062273583377",
         "-0.17"
        ],
        [
         "2",
         "656fc50d1a0a3e9e3f2a74cd25aa04d6",
         "2020",
         "MUNICIPIO DE AMERICO BRASILIENSE",
         "43976166000150",
         "AMERICO BRASILIENSE",
         "SP",
         "2020-01-01 00:00:00",
         "2020-10-06",
         "267567",
         "CARVEDILOL, DOSAGEM:25 MG",
         "NÃO",
         "1014600650257.0",
         "Pregão",
         "ADMINISTRATIVA",
         "1140868000150",
         "CIRURGICA OLIMPIO - EIRELI - EPP",
         "61150447000131",
         "LABORATÓRIOS BALDACCI S/A",
         "36000",
         "0.155",
         "5580.0",
         "COMPRIMIDO         ",
         "0.155",
         "0.9342173913043478",
         "4.353897122662849",
         "-0.18"
        ]
       ],
       "shape": {
        "columns": 26,
        "rows": 3
       }
      },
      "text/html": [
       "<div>\n",
       "<style scoped>\n",
       "    .dataframe tbody tr th:only-of-type {\n",
       "        vertical-align: middle;\n",
       "    }\n",
       "\n",
       "    .dataframe tbody tr th {\n",
       "        vertical-align: top;\n",
       "    }\n",
       "\n",
       "    .dataframe thead th {\n",
       "        text-align: right;\n",
       "    }\n",
       "</style>\n",
       "<table border=\"1\" class=\"dataframe\">\n",
       "  <thead>\n",
       "    <tr style=\"text-align: right;\">\n",
       "      <th></th>\n",
       "      <th>id_pedido</th>\n",
       "      <th>ano_compra</th>\n",
       "      <th>nome_instituicao</th>\n",
       "      <th>cnpj_instituicao</th>\n",
       "      <th>municipio_instituicao</th>\n",
       "      <th>uf</th>\n",
       "      <th>compra</th>\n",
       "      <th>insercao</th>\n",
       "      <th>codigo_br</th>\n",
       "      <th>descricao_catmat</th>\n",
       "      <th>...</th>\n",
       "      <th>cnpj_fabricante</th>\n",
       "      <th>fabricante</th>\n",
       "      <th>qtd_itens_comprados</th>\n",
       "      <th>preco_unitario</th>\n",
       "      <th>preco_total</th>\n",
       "      <th>unidade_fornecimento</th>\n",
       "      <th>pmp_individual</th>\n",
       "      <th>pmp_medio</th>\n",
       "      <th>pmp_desvio_padrao</th>\n",
       "      <th>score_z_risco</th>\n",
       "    </tr>\n",
       "  </thead>\n",
       "  <tbody>\n",
       "    <tr>\n",
       "      <th>0</th>\n",
       "      <td>6482ef28f6d9f1f4ec1b83b6e9b2172b</td>\n",
       "      <td>2020</td>\n",
       "      <td>FUNDO MUNICIPAL DE SAUDE - MUNICIPIO DE ALTO P...</td>\n",
       "      <td>8533932000101</td>\n",
       "      <td>ALTO PARANA</td>\n",
       "      <td>PR</td>\n",
       "      <td>2020-01-01</td>\n",
       "      <td>2020-03-13</td>\n",
       "      <td>243488</td>\n",
       "      <td>BOLSA VENTILAÇÃO PULMONAR, MATERIAL:BORRACHA, ...</td>\n",
       "      <td>...</td>\n",
       "      <td>73856593000166</td>\n",
       "      <td>PRATI, DONADUZZI E CIA LTDA</td>\n",
       "      <td>3</td>\n",
       "      <td>6.900</td>\n",
       "      <td>20.7</td>\n",
       "      <td>UNIDADE</td>\n",
       "      <td>6.900</td>\n",
       "      <td>31.925000</td>\n",
       "      <td>35.390694</td>\n",
       "      <td>-0.71</td>\n",
       "    </tr>\n",
       "    <tr>\n",
       "      <th>1</th>\n",
       "      <td>df750bba9e0ccdd2c3b126b93af11c0f</td>\n",
       "      <td>2020</td>\n",
       "      <td>MUNICIPIO DE AMERICO BRASILIENSE</td>\n",
       "      <td>43976166000150</td>\n",
       "      <td>AMERICO BRASILIENSE</td>\n",
       "      <td>SP</td>\n",
       "      <td>2020-01-01</td>\n",
       "      <td>2020-10-06</td>\n",
       "      <td>267565</td>\n",
       "      <td>CARVEDILOL, DOSAGEM:6,25 MG</td>\n",
       "      <td>...</td>\n",
       "      <td>61150447000131</td>\n",
       "      <td>LABORATÓRIOS BALDACCI S/A</td>\n",
       "      <td>36000</td>\n",
       "      <td>0.086</td>\n",
       "      <td>3096.0</td>\n",
       "      <td>COMPRIMIDO</td>\n",
       "      <td>0.086</td>\n",
       "      <td>0.301438</td>\n",
       "      <td>1.257806</td>\n",
       "      <td>-0.17</td>\n",
       "    </tr>\n",
       "    <tr>\n",
       "      <th>2</th>\n",
       "      <td>656fc50d1a0a3e9e3f2a74cd25aa04d6</td>\n",
       "      <td>2020</td>\n",
       "      <td>MUNICIPIO DE AMERICO BRASILIENSE</td>\n",
       "      <td>43976166000150</td>\n",
       "      <td>AMERICO BRASILIENSE</td>\n",
       "      <td>SP</td>\n",
       "      <td>2020-01-01</td>\n",
       "      <td>2020-10-06</td>\n",
       "      <td>267567</td>\n",
       "      <td>CARVEDILOL, DOSAGEM:25 MG</td>\n",
       "      <td>...</td>\n",
       "      <td>61150447000131</td>\n",
       "      <td>LABORATÓRIOS BALDACCI S/A</td>\n",
       "      <td>36000</td>\n",
       "      <td>0.155</td>\n",
       "      <td>5580.0</td>\n",
       "      <td>COMPRIMIDO</td>\n",
       "      <td>0.155</td>\n",
       "      <td>0.934217</td>\n",
       "      <td>4.353897</td>\n",
       "      <td>-0.18</td>\n",
       "    </tr>\n",
       "  </tbody>\n",
       "</table>\n",
       "<p>3 rows × 26 columns</p>\n",
       "</div>"
      ],
      "text/plain": [
       "                          id_pedido  ano_compra  \\\n",
       "0  6482ef28f6d9f1f4ec1b83b6e9b2172b        2020   \n",
       "1  df750bba9e0ccdd2c3b126b93af11c0f        2020   \n",
       "2  656fc50d1a0a3e9e3f2a74cd25aa04d6        2020   \n",
       "\n",
       "                                    nome_instituicao  cnpj_instituicao  \\\n",
       "0  FUNDO MUNICIPAL DE SAUDE - MUNICIPIO DE ALTO P...     8533932000101   \n",
       "1                   MUNICIPIO DE AMERICO BRASILIENSE    43976166000150   \n",
       "2                   MUNICIPIO DE AMERICO BRASILIENSE    43976166000150   \n",
       "\n",
       "  municipio_instituicao  uf     compra    insercao  codigo_br  \\\n",
       "0           ALTO PARANA  PR 2020-01-01  2020-03-13     243488   \n",
       "1   AMERICO BRASILIENSE  SP 2020-01-01  2020-10-06     267565   \n",
       "2   AMERICO BRASILIENSE  SP 2020-01-01  2020-10-06     267567   \n",
       "\n",
       "                                    descricao_catmat  ... cnpj_fabricante  \\\n",
       "0  BOLSA VENTILAÇÃO PULMONAR, MATERIAL:BORRACHA, ...  ...  73856593000166   \n",
       "1                        CARVEDILOL, DOSAGEM:6,25 MG  ...  61150447000131   \n",
       "2                          CARVEDILOL, DOSAGEM:25 MG  ...  61150447000131   \n",
       "\n",
       "                    fabricante qtd_itens_comprados preco_unitario  \\\n",
       "0  PRATI, DONADUZZI E CIA LTDA                   3          6.900   \n",
       "1    LABORATÓRIOS BALDACCI S/A               36000          0.086   \n",
       "2    LABORATÓRIOS BALDACCI S/A               36000          0.155   \n",
       "\n",
       "   preco_total unidade_fornecimento  pmp_individual  pmp_medio  \\\n",
       "0         20.7  UNIDADE                       6.900  31.925000   \n",
       "1       3096.0  COMPRIMIDO                    0.086   0.301438   \n",
       "2       5580.0  COMPRIMIDO                    0.155   0.934217   \n",
       "\n",
       "   pmp_desvio_padrao  score_z_risco  \n",
       "0          35.390694          -0.71  \n",
       "1           1.257806          -0.17  \n",
       "2           4.353897          -0.18  \n",
       "\n",
       "[3 rows x 26 columns]"
      ]
     },
     "metadata": {},
     "output_type": "display_data"
    },
    {
     "data": {
      "text/markdown": [
       "###  Colunas Disponíveis:"
      ],
      "text/plain": [
       "<IPython.core.display.Markdown object>"
      ]
     },
     "metadata": {},
     "output_type": "display_data"
    },
    {
     "data": {
      "text/markdown": [
       "**Identificadores:** id_pedido, codigo_br, cnpj_instituicao, cnpj_fornecedor, cnpj_fabricante"
      ],
      "text/plain": [
       "<IPython.core.display.Markdown object>"
      ]
     },
     "metadata": {},
     "output_type": "display_data"
    },
    {
     "data": {
      "text/markdown": [
       "**Temporais:** compra, insercao, ano_compra"
      ],
      "text/plain": [
       "<IPython.core.display.Markdown object>"
      ]
     },
     "metadata": {},
     "output_type": "display_data"
    },
    {
     "data": {
      "text/markdown": [
       "**Instituição:** nome_instituicao, municipio_instituicao, uf"
      ],
      "text/plain": [
       "<IPython.core.display.Markdown object>"
      ]
     },
     "metadata": {},
     "output_type": "display_data"
    },
    {
     "data": {
      "text/markdown": [
       "**Produto:** descricao_catmat, generico, anvisa, unidade_fornecimento"
      ],
      "text/plain": [
       "<IPython.core.display.Markdown object>"
      ]
     },
     "metadata": {},
     "output_type": "display_data"
    },
    {
     "data": {
      "text/markdown": [
       "**Compra:** modalidade_compra, tipo_compra"
      ],
      "text/plain": [
       "<IPython.core.display.Markdown object>"
      ]
     },
     "metadata": {},
     "output_type": "display_data"
    },
    {
     "data": {
      "text/markdown": [
       "**Financeiro:** qtd_itens_comprados, preco_unitario, preco_total"
      ],
      "text/plain": [
       "<IPython.core.display.Markdown object>"
      ]
     },
     "metadata": {},
     "output_type": "display_data"
    },
    {
     "data": {
      "text/markdown": [
       "**Métricas PMP:** pmp_individual, pmp_medio, pmp_desvio_padrao, score_z_risco"
      ],
      "text/plain": [
       "<IPython.core.display.Markdown object>"
      ]
     },
     "metadata": {},
     "output_type": "display_data"
    },
    {
     "data": {
      "text/markdown": [
       "##  ANÁLISE DE OCOSIDADE E CONCENTRAÇÃO"
      ],
      "text/plain": [
       "<IPython.core.display.Markdown object>"
      ]
     },
     "metadata": {},
     "output_type": "display_data"
    },
    {
     "data": {
      "application/vnd.microsoft.datawrangler.viewer.v0+json": {
       "columns": [
        {
         "name": "index",
         "rawType": "int64",
         "type": "integer"
        },
        {
         "name": "Categoria",
         "rawType": "object",
         "type": "string"
        },
        {
         "name": "Total Cadastrado",
         "rawType": "int64",
         "type": "integer"
        },
        {
         "name": "Ativos no Período",
         "rawType": "int64",
         "type": "integer"
        },
        {
         "name": "Ociosos",
         "rawType": "int64",
         "type": "integer"
        },
        {
         "name": "% Ociosos",
         "rawType": "object",
         "type": "string"
        }
       ],
       "ref": "1a7f251f-8e63-405a-a744-f21abf0a11da",
       "rows": [
        [
         "0",
         "Produtos",
         "21257",
         "11143",
         "10114",
         "47.6%"
        ],
        [
         "1",
         "Instituições",
         "1132",
         "761",
         "371",
         "32.8%"
        ],
        [
         "2",
         "Fornecedores",
         "4795",
         "3110",
         "1685",
         "35.1%"
        ]
       ],
       "shape": {
        "columns": 5,
        "rows": 3
       }
      },
      "text/html": [
       "<div>\n",
       "<style scoped>\n",
       "    .dataframe tbody tr th:only-of-type {\n",
       "        vertical-align: middle;\n",
       "    }\n",
       "\n",
       "    .dataframe tbody tr th {\n",
       "        vertical-align: top;\n",
       "    }\n",
       "\n",
       "    .dataframe thead th {\n",
       "        text-align: right;\n",
       "    }\n",
       "</style>\n",
       "<table border=\"1\" class=\"dataframe\">\n",
       "  <thead>\n",
       "    <tr style=\"text-align: right;\">\n",
       "      <th></th>\n",
       "      <th>Categoria</th>\n",
       "      <th>Total Cadastrado</th>\n",
       "      <th>Ativos no Período</th>\n",
       "      <th>Ociosos</th>\n",
       "      <th>% Ociosos</th>\n",
       "    </tr>\n",
       "  </thead>\n",
       "  <tbody>\n",
       "    <tr>\n",
       "      <th>0</th>\n",
       "      <td>Produtos</td>\n",
       "      <td>21257</td>\n",
       "      <td>11143</td>\n",
       "      <td>10114</td>\n",
       "      <td>47.6%</td>\n",
       "    </tr>\n",
       "    <tr>\n",
       "      <th>1</th>\n",
       "      <td>Instituições</td>\n",
       "      <td>1132</td>\n",
       "      <td>761</td>\n",
       "      <td>371</td>\n",
       "      <td>32.8%</td>\n",
       "    </tr>\n",
       "    <tr>\n",
       "      <th>2</th>\n",
       "      <td>Fornecedores</td>\n",
       "      <td>4795</td>\n",
       "      <td>3110</td>\n",
       "      <td>1685</td>\n",
       "      <td>35.1%</td>\n",
       "    </tr>\n",
       "  </tbody>\n",
       "</table>\n",
       "</div>"
      ],
      "text/plain": [
       "      Categoria  Total Cadastrado  Ativos no Período  Ociosos % Ociosos\n",
       "0      Produtos             21257              11143    10114     47.6%\n",
       "1  Instituições              1132                761      371     32.8%\n",
       "2  Fornecedores              4795               3110     1685     35.1%"
      ]
     },
     "metadata": {},
     "output_type": "display_data"
    },
    {
     "data": {
      "text/markdown": [
       "###  INSIGHTS ESTRATÉGICOS:"
      ],
      "text/plain": [
       "<IPython.core.display.Markdown object>"
      ]
     },
     "metadata": {},
     "output_type": "display_data"
    },
    {
     "data": {
      "text/markdown": [
       "-  **47.6% dos produtos não foram comprados** - oportunidade para revisão de catálogo"
      ],
      "text/plain": [
       "<IPython.core.display.Markdown object>"
      ]
     },
     "metadata": {},
     "output_type": "display_data"
    },
    {
     "data": {
      "text/markdown": [
       "-  **32.8% das instituições inativas** - oportunidade para prospecção comercial"
      ],
      "text/plain": [
       "<IPython.core.display.Markdown object>"
      ]
     },
     "metadata": {},
     "output_type": "display_data"
    },
    {
     "data": {
      "text/markdown": [
       "-  **35.1% dos fornecedores ociosos** - avaliar parcerias estratégicas"
      ],
      "text/plain": [
       "<IPython.core.display.Markdown object>"
      ]
     },
     "metadata": {},
     "output_type": "display_data"
    },
    {
     "data": {
      "text/markdown": [
       "-  **Foco nos ativos:** 11,143 produtos geraram R$ 75,242,099,053Bi em 263,562 transações"
      ],
      "text/plain": [
       "<IPython.core.display.Markdown object>"
      ]
     },
     "metadata": {},
     "output_type": "display_data"
    },
    {
     "data": {
      "text/markdown": [
       "-  **Alta concentração de valor** em poucos produtos/fornecedores ativos - confirme com seu Pareto no Dashboard"
      ],
      "text/plain": [
       "<IPython.core.display.Markdown object>"
      ]
     },
     "metadata": {},
     "output_type": "display_data"
    },
    {
     "data": {
      "text/markdown": [
       "#  INICIANDO MODELAGEM COMPLETA"
      ],
      "text/plain": [
       "<IPython.core.display.Markdown object>"
      ]
     },
     "metadata": {},
     "output_type": "display_data"
    },
    {
     "data": {
      "text/markdown": [
       "###  Etapa 1: Cálculo do Z-Score de Risco"
      ],
      "text/plain": [
       "<IPython.core.display.Markdown object>"
      ]
     },
     "metadata": {},
     "output_type": "display_data"
    },
    {
     "data": {
      "text/markdown": [
       " **Z-Score já calculado na coluna específica**"
      ],
      "text/plain": [
       "<IPython.core.display.Markdown object>"
      ]
     },
     "metadata": {},
     "output_type": "display_data"
    },
    {
     "data": {
      "text/markdown": [
       "###  Etapa 2: Risco de Intermitência"
      ],
      "text/plain": [
       "<IPython.core.display.Markdown object>"
      ]
     },
     "metadata": {},
     "output_type": "display_data"
    },
    {
     "data": {
      "image/png": "[encoded data removed]",
      "text/plain": [
       "<Figure size 1000x600 with 1 Axes>"
      ]
     },
     "metadata": {},
     "output_type": "display_data"
    },
    {
     "data": {
      "text/markdown": [
       "**Risco médio:** 33.85%"
      ],
      "text/plain": [
       "<IPython.core.display.Markdown object>"
      ]
     },
     "metadata": {},
     "output_type": "display_data"
    },
    {
     "data": {
      "text/markdown": [
       " **Risco de Intermitência calculado!**"
      ],
      "text/plain": [
       "<IPython.core.display.Markdown object>"
      ]
     },
     "metadata": {},
     "output_type": "display_data"
    },
    {
     "data": {
      "text/markdown": [
       "### 🏭 Etapa 3: Concentração de Fornecedor"
      ],
      "text/plain": [
       "<IPython.core.display.Markdown object>"
      ]
     },
     "metadata": {},
     "output_type": "display_data"
    },
    {
     "data": {
      "image/png": "[encoded data removed]",
      "text/plain": [
       "<Figure size 1000x600 with 1 Axes>"
      ]
     },
     "metadata": {},
     "output_type": "display_data"
    },
    {
     "data": {
      "text/markdown": [
       "**Produtos com concentração >80%:** 33392"
      ],
      "text/plain": [
       "<IPython.core.display.Markdown object>"
      ]
     },
     "metadata": {},
     "output_type": "display_data"
    },
    {
     "data": {
      "text/markdown": [
       " **Concentração de Fornecedor calculada!**"
      ],
      "text/plain": [
       "<IPython.core.display.Markdown object>"
      ]
     },
     "metadata": {},
     "output_type": "display_data"
    },
    {
     "data": {
      "text/markdown": [
       "###  Etapa 4: Índice de Priorização"
      ],
      "text/plain": [
       "<IPython.core.display.Markdown object>"
      ]
     },
     "metadata": {},
     "output_type": "display_data"
    },
    {
     "data": {
      "image/png": "[encoded data removed]",
      "text/plain": [
       "<Figure size 1000x600 with 1 Axes>"
      ]
     },
     "metadata": {},
     "output_type": "display_data"
    },
    {
     "data": {
      "text/markdown": [
       "**Top 10 produtos prioritários:**"
      ],
      "text/plain": [
       "<IPython.core.display.Markdown object>"
      ]
     },
     "metadata": {},
     "output_type": "display_data"
    },
    {
     "data": {
      "text/markdown": [
       "- 439678: 0.7616"
      ],
      "text/plain": [
       "<IPython.core.display.Markdown object>"
      ]
     },
     "metadata": {},
     "output_type": "display_data"
    },
    {
     "data": {
      "text/markdown": [
       "- 269833: 0.5001"
      ],
      "text/plain": [
       "<IPython.core.display.Markdown object>"
      ]
     },
     "metadata": {},
     "output_type": "display_data"
    },
    {
     "data": {
      "text/markdown": [
       "- 403959: 0.4974"
      ],
      "text/plain": [
       "<IPython.core.display.Markdown object>"
      ]
     },
     "metadata": {},
     "output_type": "display_data"
    },
    {
     "data": {
      "text/markdown": [
       "- 442145: 0.4965"
      ],
      "text/plain": [
       "<IPython.core.display.Markdown object>"
      ]
     },
     "metadata": {},
     "output_type": "display_data"
    },
    {
     "data": {
      "text/markdown": [
       "- 439799: 0.4923"
      ],
      "text/plain": [
       "<IPython.core.display.Markdown object>"
      ]
     },
     "metadata": {},
     "output_type": "display_data"
    },
    {
     "data": {
      "text/markdown": [
       "- 397494: 0.4920"
      ],
      "text/plain": [
       "<IPython.core.display.Markdown object>"
      ]
     },
     "metadata": {},
     "output_type": "display_data"
    },
    {
     "data": {
      "text/markdown": [
       "- 400563: 0.4885"
      ],
      "text/plain": [
       "<IPython.core.display.Markdown object>"
      ]
     },
     "metadata": {},
     "output_type": "display_data"
    },
    {
     "data": {
      "text/markdown": [
       "- 425356: 0.4852"
      ],
      "text/plain": [
       "<IPython.core.display.Markdown object>"
      ]
     },
     "metadata": {},
     "output_type": "display_data"
    },
    {
     "data": {
      "text/markdown": [
       "- 448808: 0.4841"
      ],
      "text/plain": [
       "<IPython.core.display.Markdown object>"
      ]
     },
     "metadata": {},
     "output_type": "display_data"
    },
    {
     "data": {
      "text/markdown": [
       "- 364040: 0.4832"
      ],
      "text/plain": [
       "<IPython.core.display.Markdown object>"
      ]
     },
     "metadata": {},
     "output_type": "display_data"
    },
    {
     "data": {
      "text/markdown": [
       " **Índice de Priorização calculado!**"
      ],
      "text/plain": [
       "<IPython.core.display.Markdown object>"
      ]
     },
     "metadata": {},
     "output_type": "display_data"
    },
    {
     "data": {
      "text/markdown": [
       "###  RESUMO FINAL"
      ],
      "text/plain": [
       "<IPython.core.display.Markdown object>"
      ]
     },
     "metadata": {},
     "output_type": "display_data"
    },
    {
     "data": {
      "application/vnd.microsoft.datawrangler.viewer.v0+json": {
       "columns": [
        {
         "name": "index",
         "rawType": "int64",
         "type": "integer"
        },
        {
         "name": "Métrica",
         "rawType": "object",
         "type": "string"
        },
        {
         "name": "Valor",
         "rawType": "object",
         "type": "string"
        }
       ],
       "ref": "72ee4ab3-94f7-498a-b607-9d26e76a3eca",
       "rows": [
        [
         "0",
         "Registros",
         "263,562"
        ],
        [
         "1",
         "Produtos",
         "11,143"
        ],
        [
         "2",
         "Z-Score Médio",
         "-0.00"
        ],
        [
         "3",
         "Risco Intermitência Médio",
         "33.85%"
        ],
        [
         "4",
         "Concentração Fornecedor Médio",
         "42.88%"
        ],
        [
         "5",
         "Índice Priorização Médio",
         "0.2768"
        ]
       ],
       "shape": {
        "columns": 2,
        "rows": 6
       }
      },
      "text/html": [
       "<div>\n",
       "<style scoped>\n",
       "    .dataframe tbody tr th:only-of-type {\n",
       "        vertical-align: middle;\n",
       "    }\n",
       "\n",
       "    .dataframe tbody tr th {\n",
       "        vertical-align: top;\n",
       "    }\n",
       "\n",
       "    .dataframe thead th {\n",
       "        text-align: right;\n",
       "    }\n",
       "</style>\n",
       "<table border=\"1\" class=\"dataframe\">\n",
       "  <thead>\n",
       "    <tr style=\"text-align: right;\">\n",
       "      <th></th>\n",
       "      <th>Métrica</th>\n",
       "      <th>Valor</th>\n",
       "    </tr>\n",
       "  </thead>\n",
       "  <tbody>\n",
       "    <tr>\n",
       "      <th>0</th>\n",
       "      <td>Registros</td>\n",
       "      <td>263,562</td>\n",
       "    </tr>\n",
       "    <tr>\n",
       "      <th>1</th>\n",
       "      <td>Produtos</td>\n",
       "      <td>11,143</td>\n",
       "    </tr>\n",
       "    <tr>\n",
       "      <th>2</th>\n",
       "      <td>Z-Score Médio</td>\n",
       "      <td>-0.00</td>\n",
       "    </tr>\n",
       "    <tr>\n",
       "      <th>3</th>\n",
       "      <td>Risco Intermitência Médio</td>\n",
       "      <td>33.85%</td>\n",
       "    </tr>\n",
       "    <tr>\n",
       "      <th>4</th>\n",
       "      <td>Concentração Fornecedor Médio</td>\n",
       "      <td>42.88%</td>\n",
       "    </tr>\n",
       "    <tr>\n",
       "      <th>5</th>\n",
       "      <td>Índice Priorização Médio</td>\n",
       "      <td>0.2768</td>\n",
       "    </tr>\n",
       "  </tbody>\n",
       "</table>\n",
       "</div>"
      ],
      "text/plain": [
       "                         Métrica    Valor\n",
       "0                      Registros  263,562\n",
       "1                       Produtos   11,143\n",
       "2                  Z-Score Médio    -0.00\n",
       "3      Risco Intermitência Médio   33.85%\n",
       "4  Concentração Fornecedor Médio   42.88%\n",
       "5       Índice Priorização Médio   0.2768"
      ]
     },
     "metadata": {},
     "output_type": "display_data"
    },
    {
     "data": {
      "text/markdown": [
       "###  Dados Modelados (amostra):"
      ],
      "text/plain": [
       "<IPython.core.display.Markdown object>"
      ]
     },
     "metadata": {},
     "output_type": "display_data"
    },
    {
     "data": {
      "application/vnd.microsoft.datawrangler.viewer.v0+json": {
       "columns": [
        {
         "name": "index",
         "rawType": "int64",
         "type": "integer"
        },
        {
         "name": "codigo_br",
         "rawType": "int64",
         "type": "integer"
        },
        {
         "name": "compra",
         "rawType": "datetime64[ns]",
         "type": "datetime"
        },
        {
         "name": "preco_total",
         "rawType": "float64",
         "type": "float"
        },
        {
         "name": "score_z_risco",
         "rawType": "float64",
         "type": "float"
        },
        {
         "name": "Risco_Intermitencia",
         "rawType": "float64",
         "type": "float"
        },
        {
         "name": "%_Gasto_Unico_Forn",
         "rawType": "float64",
         "type": "float"
        },
        {
         "name": "indice_priorizacao",
         "rawType": "float64",
         "type": "float"
        }
       ],
       "ref": "6095b6f5-c9f8-4a72-9a41-6927a7220f81",
       "rows": [
        [
         "0",
         "243488",
         "2020-01-01 00:00:00",
         "20.700000000000003",
         "-0.71",
         "0.9692307692307692",
         "0.9850810810810811",
         "0.3924"
        ],
        [
         "1",
         "267565",
         "2020-01-01 00:00:00",
         "3095.9999999999995",
         "-0.17",
         "0.09230769230769231",
         "0.9649609824644203",
         "0.1703"
        ],
        [
         "2",
         "267567",
         "2020-01-01 00:00:00",
         "5580.0",
         "-0.18",
         "0.10769230769230764",
         "0.17507591098938882",
         "0.1793"
        ],
        [
         "3",
         "267663",
         "2020-01-01 00:00:00",
         "18.11",
         "2.3",
         "0.07692307692307687",
         "0.29344560212024234",
         "0.1717"
        ],
        [
         "4",
         "268859",
         "2020-01-01 00:00:00",
         "32.16",
         "1.93",
         "0.27692307692307694",
         "0.3734268356256213",
         "0.2641"
        ],
        [
         "5",
         "269962",
         "2020-01-01 00:00:00",
         "19.28",
         "7.09",
         "0.15384615384615385",
         "0.20198347899531832",
         "0.2189"
        ],
        [
         "6",
         "270120",
         "2020-01-01 00:00:00",
         "43.28",
         "3.69",
         "0.07692307692307687",
         "0.2524728362512705",
         "0.2398"
        ],
        [
         "7",
         "270472",
         "2020-01-01 00:00:00",
         "51.35",
         "1.09",
         "0.8615384615384616",
         "0.8063696539461332",
         "0.4434"
        ],
        [
         "8",
         "270907",
         "2020-01-01 00:00:00",
         "23.67",
         "0.95",
         "0.15384615384615385",
         "0.24290238060487807",
         "0.2111"
        ],
        [
         "9",
         "271356",
         "2020-01-01 00:00:00",
         "28.98",
         "3.88",
         "0.1384615384615384",
         "0.8620316032762704",
         "0.2283"
        ]
       ],
       "shape": {
        "columns": 7,
        "rows": 10
       }
      },
      "text/html": [
       "<div>\n",
       "<style scoped>\n",
       "    .dataframe tbody tr th:only-of-type {\n",
       "        vertical-align: middle;\n",
       "    }\n",
       "\n",
       "    .dataframe tbody tr th {\n",
       "        vertical-align: top;\n",
       "    }\n",
       "\n",
       "    .dataframe thead th {\n",
       "        text-align: right;\n",
       "    }\n",
       "</style>\n",
       "<table border=\"1\" class=\"dataframe\">\n",
       "  <thead>\n",
       "    <tr style=\"text-align: right;\">\n",
       "      <th></th>\n",
       "      <th>codigo_br</th>\n",
       "      <th>compra</th>\n",
       "      <th>preco_total</th>\n",
       "      <th>score_z_risco</th>\n",
       "      <th>Risco_Intermitencia</th>\n",
       "      <th>%_Gasto_Unico_Forn</th>\n",
       "      <th>indice_priorizacao</th>\n",
       "    </tr>\n",
       "  </thead>\n",
       "  <tbody>\n",
       "    <tr>\n",
       "      <th>0</th>\n",
       "      <td>243488</td>\n",
       "      <td>2020-01-01</td>\n",
       "      <td>20.70</td>\n",
       "      <td>-0.71</td>\n",
       "      <td>0.969231</td>\n",
       "      <td>0.985081</td>\n",
       "      <td>0.3924</td>\n",
       "    </tr>\n",
       "    <tr>\n",
       "      <th>1</th>\n",
       "      <td>267565</td>\n",
       "      <td>2020-01-01</td>\n",
       "      <td>3096.00</td>\n",
       "      <td>-0.17</td>\n",
       "      <td>0.092308</td>\n",
       "      <td>0.964961</td>\n",
       "      <td>0.1703</td>\n",
       "    </tr>\n",
       "    <tr>\n",
       "      <th>2</th>\n",
       "      <td>267567</td>\n",
       "      <td>2020-01-01</td>\n",
       "      <td>5580.00</td>\n",
       "      <td>-0.18</td>\n",
       "      <td>0.107692</td>\n",
       "      <td>0.175076</td>\n",
       "      <td>0.1793</td>\n",
       "    </tr>\n",
       "    <tr>\n",
       "      <th>3</th>\n",
       "      <td>267663</td>\n",
       "      <td>2020-01-01</td>\n",
       "      <td>18.11</td>\n",
       "      <td>2.30</td>\n",
       "      <td>0.076923</td>\n",
       "      <td>0.293446</td>\n",
       "      <td>0.1717</td>\n",
       "    </tr>\n",
       "    <tr>\n",
       "      <th>4</th>\n",
       "      <td>268859</td>\n",
       "      <td>2020-01-01</td>\n",
       "      <td>32.16</td>\n",
       "      <td>1.93</td>\n",
       "      <td>0.276923</td>\n",
       "      <td>0.373427</td>\n",
       "      <td>0.2641</td>\n",
       "    </tr>\n",
       "    <tr>\n",
       "      <th>5</th>\n",
       "      <td>269962</td>\n",
       "      <td>2020-01-01</td>\n",
       "      <td>19.28</td>\n",
       "      <td>7.09</td>\n",
       "      <td>0.153846</td>\n",
       "      <td>0.201983</td>\n",
       "      <td>0.2189</td>\n",
       "    </tr>\n",
       "    <tr>\n",
       "      <th>6</th>\n",
       "      <td>270120</td>\n",
       "      <td>2020-01-01</td>\n",
       "      <td>43.28</td>\n",
       "      <td>3.69</td>\n",
       "      <td>0.076923</td>\n",
       "      <td>0.252473</td>\n",
       "      <td>0.2398</td>\n",
       "    </tr>\n",
       "    <tr>\n",
       "      <th>7</th>\n",
       "      <td>270472</td>\n",
       "      <td>2020-01-01</td>\n",
       "      <td>51.35</td>\n",
       "      <td>1.09</td>\n",
       "      <td>0.861538</td>\n",
       "      <td>0.806370</td>\n",
       "      <td>0.4434</td>\n",
       "    </tr>\n",
       "    <tr>\n",
       "      <th>8</th>\n",
       "      <td>270907</td>\n",
       "      <td>2020-01-01</td>\n",
       "      <td>23.67</td>\n",
       "      <td>0.95</td>\n",
       "      <td>0.153846</td>\n",
       "      <td>0.242902</td>\n",
       "      <td>0.2111</td>\n",
       "    </tr>\n",
       "    <tr>\n",
       "      <th>9</th>\n",
       "      <td>271356</td>\n",
       "      <td>2020-01-01</td>\n",
       "      <td>28.98</td>\n",
       "      <td>3.88</td>\n",
       "      <td>0.138462</td>\n",
       "      <td>0.862032</td>\n",
       "      <td>0.2283</td>\n",
       "    </tr>\n",
       "  </tbody>\n",
       "</table>\n",
       "</div>"
      ],
      "text/plain": [
       "   codigo_br     compra  preco_total  score_z_risco  Risco_Intermitencia  \\\n",
       "0     243488 2020-01-01        20.70          -0.71             0.969231   \n",
       "1     267565 2020-01-01      3096.00          -0.17             0.092308   \n",
       "2     267567 2020-01-01      5580.00          -0.18             0.107692   \n",
       "3     267663 2020-01-01        18.11           2.30             0.076923   \n",
       "4     268859 2020-01-01        32.16           1.93             0.276923   \n",
       "5     269962 2020-01-01        19.28           7.09             0.153846   \n",
       "6     270120 2020-01-01        43.28           3.69             0.076923   \n",
       "7     270472 2020-01-01        51.35           1.09             0.861538   \n",
       "8     270907 2020-01-01        23.67           0.95             0.153846   \n",
       "9     271356 2020-01-01        28.98           3.88             0.138462   \n",
       "\n",
       "   %_Gasto_Unico_Forn  indice_priorizacao  \n",
       "0            0.985081              0.3924  \n",
       "1            0.964961              0.1703  \n",
       "2            0.175076              0.1793  \n",
       "3            0.293446              0.1717  \n",
       "4            0.373427              0.2641  \n",
       "5            0.201983              0.2189  \n",
       "6            0.252473              0.2398  \n",
       "7            0.806370              0.4434  \n",
       "8            0.242902              0.2111  \n",
       "9            0.862032              0.2283  "
      ]
     },
     "metadata": {},
     "output_type": "display_data"
    },
    {
     "data": {
      "text/markdown": [
       "### 💾 Salvando resultados..."
      ],
      "text/plain": [
       "<IPython.core.display.Markdown object>"
      ]
     },
     "metadata": {},
     "output_type": "display_data"
    },
    {
     "data": {
      "text/markdown": [
       "✅ **Dados modelados salvos em:** C:\\Users\\debor\\OneDrive\\Github\\compras_medicamentos_sus\\data\\outputs\\compras_modeladas_final.csv"
      ],
      "text/plain": [
       "<IPython.core.display.Markdown object>"
      ]
     },
     "metadata": {},
     "output_type": "display_data"
    }
   ],
   "source": [
    "import pandas as pd\n",
    "import numpy as np\n",
    "import matplotlib.pyplot as plt\n",
    "import seaborn as sns\n",
    "from IPython.display import display, Markdown\n",
    "\n",
    "\n",
    "\n",
    "\n",
    "# Configuração para visualizações\n",
    "\n",
    "# LINHAS NOVAS (colocar):\n",
    "sns.set_theme(style='whitegrid', font_scale=1.1)\n",
    "CORES_NOVAS = ['#2dede0', '#25c9bd', '#1fa59a', '#ff6b6b', '#4ecdc4']\n",
    "sns.set_palette(CORES_NOVAS)\n",
    "# ==============================================================================\n",
    "# CARREGAR A TABELA: compras_consolidado_final.csv\n",
    "# ==============================================================================\n",
    "\n",
    "display(Markdown(\"#  CARREGANDO TABELA PARA MODELAGEM: compras_consolidado_final.csv\"))\n",
    "\n",
    "# Usando o caminho correto que seu main.py usa\n",
    "caminho_correto = r'C:\\Users\\debor\\OneDrive\\Github\\compras_medicamentos_sus\\data\\outputs\\compras_consolidado_final.csv'\n",
    "\n",
    "try:\n",
    "    # Carregar com separador ponto e vírgula (baseado nas suas colunas)\n",
    "    df = pd.read_csv(caminho_correto, sep=';')\n",
    "    \n",
    "    display(Markdown(f\" **TABELA CARREGADA COM SUCESSO!**\"))\n",
    "    display(Markdown(f\" **Total de registros:** {len(df):,}\"))\n",
    "    display(Markdown(f\" **Total de colunas:** {len(df.columns)}\"))\n",
    "    \n",
    "    # Converter coluna de data\n",
    "    if 'compra' in df.columns:\n",
    "        df['compra'] = pd.to_datetime(df['compra'], errors='coerce')\n",
    "    \n",
    "    # Mostrar informações\n",
    "    display(Markdown(\"###  Informações do Dataset:\"))\n",
    "    \n",
    "    info_data = [\n",
    "        ['Registros', f\"{len(df):,}\"],\n",
    "        ['Colunas', f\"{len(df.columns)}\"],\n",
    "        ['Produtos Únicos', f\"{df['codigo_br'].nunique():,}\"],\n",
    "        ['Fornecedores Únicos', f\"{df['cnpj_fornecedor'].nunique():,}\"],\n",
    "        ['Instituições Únicas', f\"{df['cnpj_instituicao'].nunique():,}\"],\n",
    "        ['Período', f\"{df['compra'].min().strftime('%Y-%m-%d')} a {df['compra'].max().strftime('%Y-%m-%d')}\"],\n",
    "        ['Valor Total', f\"R$ {df['preco_total'].sum():,.2f}\"]\n",
    "    ]\n",
    "    \n",
    "    info_df = pd.DataFrame(info_data, columns=['Métrica', 'Valor'])\n",
    "    display(info_df)\n",
    "    \n",
    "    # Mostrar prévia\n",
    "    display(Markdown(\"###  Prévia dos Dados:\"))\n",
    "    display(df.head(3))\n",
    "    \n",
    "    # Verificar colunas\n",
    "    display(Markdown(\"###  Colunas Disponíveis:\"))\n",
    "    colunas_grupos = {\n",
    "        'Identificadores': ['id_pedido', 'codigo_br', 'cnpj_instituicao', 'cnpj_fornecedor', 'cnpj_fabricante'],\n",
    "        'Temporais': ['compra', 'insercao', 'ano_compra'],\n",
    "        'Instituição': ['nome_instituicao', 'municipio_instituicao', 'uf'],\n",
    "        'Produto': ['descricao_catmat', 'generico', 'anvisa', 'unidade_fornecimento'],\n",
    "        'Compra': ['modalidade_compra', 'tipo_compra'],\n",
    "        'Financeiro': ['qtd_itens_comprados', 'preco_unitario', 'preco_total'],\n",
    "        'Métricas PMP': ['pmp_individual', 'pmp_medio', 'pmp_desvio_padrao', 'score_z_risco']\n",
    "    }\n",
    "    \n",
    "    for grupo, colunas in colunas_grupos.items():\n",
    "        colunas_presentes = [col for col in colunas if col in df.columns]\n",
    "        if colunas_presentes:\n",
    "            display(Markdown(f\"**{grupo}:** {', '.join(colunas_presentes)}\"))\n",
    "\n",
    "except Exception as e:\n",
    "    display(Markdown(f\" **Erro ao carregar:** {e}\"))\n",
    "    df = None\n",
    "\n",
    "# ==============================================================================\n",
    "# FUNÇÕES DE MODELAGEM COMPLETA\n",
    "# ==============================================================================\n",
    "\n",
    "if df is not None:\n",
    "\n",
    "    def calcular_zscore_risco(df: pd.DataFrame, mostrar_resultados: bool = True) -> pd.DataFrame:\n",
    "        \"\"\"Calcula Z-Score de risco - versão otimizada\"\"\"\n",
    "        display(Markdown(\"###  Etapa 1: Cálculo do Z-Score de Risco\"))\n",
    "        \n",
    "        # Verificar se já não existe\n",
    "        if 'score_z_risco' in df.columns and not df['score_z_risco'].isna().all():\n",
    "            display(Markdown(\" **Z-Score já calculado na coluna específica**\"))\n",
    "            return df\n",
    "        \n",
    "        df['ano_compra'] = df['compra'].dt.year\n",
    "        \n",
    "        # Calcular PMP individual se não existir\n",
    "        if 'pmp_individual' not in df.columns:\n",
    "            df['pmp_individual'] = np.where(\n",
    "                df['qtd_itens_comprados'] > 0,\n",
    "                df['preco_total'] / df['qtd_itens_comprados'],\n",
    "                0\n",
    "            )\n",
    "        \n",
    "        # Calcular média e desvio padrão\n",
    "        colunas_agrupamento = ['codigo_br', 'ano_compra']\n",
    "        df['pmp_medio'] = df.groupby(colunas_agrupamento)['pmp_individual'].transform('mean')\n",
    "        df['pmp_desvio_padrao'] = df.groupby(colunas_agrupamento)['pmp_individual'].transform('std').fillna(0)\n",
    "        \n",
    "        # Calcular Z-Score\n",
    "        df['score_z_risco'] = np.where(\n",
    "            df['pmp_desvio_padrao'] > 0,\n",
    "            (df['pmp_individual'] - df['pmp_medio']) / df['pmp_desvio_padrao'],\n",
    "            0\n",
    "        ).round(2)\n",
    "        \n",
    "        if mostrar_resultados:\n",
    "            fig, axes = plt.subplots(1, 2, figsize=(15, 5))\n",
    "            \n",
    "            data_clean = df['score_z_risco'].replace([np.inf, -np.inf], np.nan).dropna()\n",
    "            axes[0].hist(data_clean, bins=50, alpha=0.7, edgecolor='black')\n",
    "            axes[0].set_xlabel('Z-Score')\n",
    "            axes[0].set_ylabel('Frequência')\n",
    "            axes[0].set_title('Distribuição do Z-Score')\n",
    "            \n",
    "            axes[1].boxplot(data_clean)\n",
    "            axes[1].set_ylabel('Z-Score')\n",
    "            axes[1].set_title('Boxplot do Z-Score')\n",
    "            plt.tight_layout()\n",
    "            plt.show()\n",
    "            \n",
    "            stats = df['score_z_risco'].describe()\n",
    "            display(Markdown(f\"**Estatísticas Z-Score:** Média={stats['mean']:.2f}, Std={stats['std']:.2f}\"))\n",
    "        \n",
    "        display(Markdown(\" **Z-Score calculado na coluna!**\"))\n",
    "        return df\n",
    "\n",
    "    def calcular_risco_intermitencia(df: pd.DataFrame, mostrar_resultados: bool = True) -> pd.DataFrame:\n",
    "        \"\"\"Calcula risco de intermitência\"\"\"\n",
    "        display(Markdown(\"###  Etapa 2: Risco de Intermitência\"))\n",
    "        \n",
    "        if 'Risco_Intermitencia' in df.columns:\n",
    "            display(Markdown(\" **Risco de Intermitência já calculado**\"))\n",
    "            return df\n",
    "        \n",
    "        df['mes_compra'] = df['compra'].dt.to_period('M')\n",
    "        \n",
    "        # Usar código_br como id_produto\n",
    "        df['id_produto'] = df['codigo_br']\n",
    "        \n",
    "        intermitencia = df.groupby('id_produto')['mes_compra'].nunique().reset_index()\n",
    "        intermitencia.rename(columns={'mes_compra': 'Meses_Comprados_Historico'}, inplace=True)\n",
    "        \n",
    "        mes_min = df['mes_compra'].min()\n",
    "        mes_max = df['mes_compra'].max()\n",
    "        periodo_total = (mes_max.year - mes_min.year) * 12 + mes_max.month - mes_min.month + 1\n",
    "        \n",
    "        intermitencia['Risco_Intermitencia'] = 1 - (intermitencia['Meses_Comprados_Historico'] / periodo_total)\n",
    "        \n",
    "        df = df.merge(intermitencia, on='id_produto', how='left')\n",
    "        df.drop(columns=['mes_compra'], inplace=True, errors='ignore')\n",
    "        \n",
    "        if mostrar_resultados:\n",
    "            fig, ax = plt.subplots(figsize=(10, 6))\n",
    "            df['Risco_Intermitencia'].hist(bins=20, alpha=0.7, ax=ax)\n",
    "            ax.set_xlabel('Risco de Intermitência')\n",
    "            ax.set_ylabel('Frequência')\n",
    "            ax.set_title('Distribuição do Risco de Intermitência')\n",
    "            plt.show()\n",
    "            \n",
    "            display(Markdown(f\"**Risco médio:** {df['Risco_Intermitencia'].mean():.2%}\"))\n",
    "        \n",
    "        display(Markdown(\" **Risco de Intermitência calculado!**\"))\n",
    "        return df\n",
    "\n",
    "    def calcular_concentracao_fornecedor(df: pd.DataFrame, mostrar_resultados: bool = True) -> pd.DataFrame:\n",
    "        \"\"\"Calcula concentração de fornecedor\"\"\"\n",
    "        display(Markdown(\"### 🏭 Etapa 3: Concentração de Fornecedor\"))\n",
    "        \n",
    "        if '%_Gasto_Unico_Forn' in df.columns:\n",
    "            display(Markdown(\" **Concentração de Fornecedor já calculada**\"))\n",
    "            return df\n",
    "        \n",
    "        # Usar cnpj_fornecedor como id_fornecedor\n",
    "        df['id_fornecedor'] = df['cnpj_fornecedor']\n",
    "        df['id_produto'] = df['codigo_br']\n",
    "        \n",
    "        gasto_total = df.groupby('id_produto')['preco_total'].sum().reset_index(name='Gasto_Total_Produto')\n",
    "        gasto_fornecedor = df.groupby(['id_produto', 'id_fornecedor'])['preco_total'].sum().reset_index()\n",
    "        \n",
    "        idx_max = gasto_fornecedor.groupby('id_produto')['preco_total'].idxmax()\n",
    "        fornecedor_principal = gasto_fornecedor.loc[idx_max, ['id_produto', 'preco_total']].rename(\n",
    "            columns={'preco_total': 'Gasto_Principal'}\n",
    "        )\n",
    "        \n",
    "        concentracao = gasto_total.merge(fornecedor_principal, on='id_produto')\n",
    "        concentracao['%_Gasto_Unico_Forn'] = concentracao['Gasto_Principal'] / concentracao['Gasto_Total_Produto']\n",
    "        \n",
    "        df = df.merge(concentracao[['id_produto', '%_Gasto_Unico_Forn']], on='id_produto', how='left')\n",
    "        \n",
    "        if mostrar_resultados:\n",
    "            fig, ax = plt.subplots(figsize=(10, 6))\n",
    "            df['%_Gasto_Unico_Forn'].hist(bins=20, alpha=0.7, ax=ax)\n",
    "            ax.set_xlabel('Concentração no Fornecedor Principal')\n",
    "            ax.set_ylabel('Frequência')\n",
    "            ax.set_title('Distribuição da Concentração de Fornecedor')\n",
    "            plt.show()\n",
    "            \n",
    "            criticos = (df['%_Gasto_Unico_Forn'] > 0.8).sum()\n",
    "            display(Markdown(f\"**Produtos com concentração >80%:** {criticos}\"))\n",
    "        \n",
    "        display(Markdown(\" **Concentração de Fornecedor calculada!**\"))\n",
    "        return df\n",
    "\n",
    "    def calcular_indice_priorizacao(df: pd.DataFrame, mostrar_resultados: bool = True) -> pd.DataFrame:\n",
    "        \"\"\"Calcula índice de priorização\"\"\"\n",
    "        display(Markdown(\"###  Etapa 4: Índice de Priorização\"))\n",
    "        \n",
    "        if 'indice_priorizacao' in df.columns:\n",
    "            display(Markdown(\" **Índice de Priorização já calculado**\"))\n",
    "            return df\n",
    "        \n",
    "        df['id_produto'] = df['codigo_br']\n",
    "        \n",
    "        # Agrupar por produto\n",
    "        produto_metrics = df.groupby('id_produto').agg(\n",
    "            risco_absoluto=('score_z_risco', lambda x: np.abs(x).mean()),\n",
    "            demanda_total=('preco_total', 'sum')\n",
    "        ).reset_index()\n",
    "        \n",
    "        # Normalizar\n",
    "        produto_metrics['risco_norm'] = (produto_metrics['risco_absoluto'] - produto_metrics['risco_absoluto'].min()) / (produto_metrics['risco_absoluto'].max() - produto_metrics['risco_absoluto'].min())\n",
    "        produto_metrics['demanda_norm'] = (produto_metrics['demanda_total'] - produto_metrics['demanda_total'].min()) / (produto_metrics['demanda_total'].max() - produto_metrics['demanda_total'].min())\n",
    "        \n",
    "        # Calcular índice\n",
    "        produto_metrics['indice_priorizacao'] = (produto_metrics['risco_norm'] * 0.5 + produto_metrics['demanda_norm'] * 0.5).round(4)\n",
    "        \n",
    "        df = df.merge(produto_metrics[['id_produto', 'indice_priorizacao', 'demanda_total']].rename(\n",
    "            columns={'demanda_total': 'demanda_valor'}), on='id_produto', how='left')\n",
    "        \n",
    "        if mostrar_resultados:\n",
    "            fig, ax = plt.subplots(figsize=(10, 6))\n",
    "            df['indice_priorizacao'].hist(bins=30, alpha=0.7, ax=ax)\n",
    "            ax.set_xlabel('Índice de Priorização')\n",
    "            ax.set_ylabel('Frequência')\n",
    "            ax.set_title('Distribuição do Índice de Priorização')\n",
    "            plt.show()\n",
    "            \n",
    "            top_10 = df.groupby('id_produto')['indice_priorizacao'].first().nlargest(10)\n",
    "            display(Markdown(\"**Top 10 produtos prioritários:**\"))\n",
    "            for produto, indice in top_10.items():\n",
    "                display(Markdown(f\"- {produto}: {indice:.4f}\"))\n",
    "        \n",
    "        display(Markdown(\" **Índice de Priorização calculado!**\"))\n",
    "        return df\n",
    "\n",
    "    def executar_modelagem_completa(df: pd.DataFrame) -> pd.DataFrame:\n",
    "        \"\"\"Executa toda a modelagem\"\"\"\n",
    "        display(Markdown(\"#  INICIANDO MODELAGEM COMPLETA\"))\n",
    "        \n",
    "        df_resultado = df.copy()\n",
    "        \n",
    "        # Aplicar todas as etapas\n",
    "        df_resultado = calcular_zscore_risco(df_resultado)\n",
    "        df_resultado = calcular_risco_intermitencia(df_resultado)\n",
    "        df_resultado = calcular_concentracao_fornecedor(df_resultado)\n",
    "        df_resultado = calcular_indice_priorizacao(df_resultado)\n",
    "        \n",
    "        # Resumo final\n",
    "        display(Markdown(\"###  RESUMO FINAL\"))\n",
    "        \n",
    "        metricas = [\n",
    "            ['Registros', f\"{len(df_resultado):,}\"],\n",
    "            ['Produtos', f\"{df_resultado['codigo_br'].nunique():,}\"],\n",
    "            ['Z-Score Médio', f\"{df_resultado['score_z_risco'].mean():.2f}\"],\n",
    "            ['Risco Intermitência Médio', f\"{df_resultado['Risco_Intermitencia'].mean():.2%}\"],\n",
    "            ['Concentração Fornecedor Médio', f\"{df_resultado['%_Gasto_Unico_Forn'].mean():.2%}\"],\n",
    "            ['Índice Priorização Médio', f\"{df_resultado['indice_priorizacao'].mean():.4f}\"]\n",
    "        ]\n",
    "        \n",
    "        resumo_df = pd.DataFrame(metricas, columns=['Métrica', 'Valor'])\n",
    "        display(resumo_df)\n",
    "        \n",
    "        display(Markdown(\"###  Dados Modelados (amostra):\"))\n",
    "        colunas_novas = ['score_z_risco', 'Risco_Intermitencia', '%_Gasto_Unico_Forn', 'indice_priorizacao']\n",
    "        colunas_base = ['codigo_br', 'compra', 'preco_total']\n",
    "        colunas_mostrar = [col for col in colunas_base + colunas_novas if col in df_resultado.columns]\n",
    "        display(df_resultado[colunas_mostrar].head(10))\n",
    "        \n",
    "        return df_resultado\n",
    "    \n",
    "            \n",
    "    display(Markdown(\"##  ANÁLISE DE OCOSIDADE E CONCENTRAÇÃO\"))\n",
    "\n",
    "    # Calcular dinamicamente a partir dos dados\n",
    "    total_produtos_cadastrados = 21257  # Você pode ajustar esses valores\n",
    "    total_instituicoes_cadastradas = 1132\n",
    "    total_fornecedores_cadastrados = 4795\n",
    "\n",
    "    produtos_ativos = df_final['codigo_br'].nunique()\n",
    "    instituicoes_ativas = df_final['cnpj_instituicao'].nunique() \n",
    "    fornecedores_ativos = df_final['cnpj_fornecedor'].nunique()\n",
    "\n",
    "    analise_ociosidade = pd.DataFrame({\n",
    "        'Categoria': ['Produtos', 'Instituições', 'Fornecedores'],\n",
    "        'Total Cadastrado': [total_produtos_cadastrados, total_instituicoes_cadastradas, total_fornecedores_cadastrados],\n",
    "        'Ativos no Período': [produtos_ativos, instituicoes_ativas, fornecedores_ativos],\n",
    "        'Ociosos': [\n",
    "            total_produtos_cadastrados - produtos_ativos,\n",
    "            total_instituicoes_cadastradas - instituicoes_ativas,\n",
    "            total_fornecedores_cadastrados - fornecedores_ativos\n",
    "        ],\n",
    "        '% Ociosos': [\n",
    "            f\"{((total_produtos_cadastrados - produtos_ativos)/total_produtos_cadastrados)*100:.1f}%\",\n",
    "            f\"{((total_instituicoes_cadastradas - instituicoes_ativas)/total_instituicoes_cadastradas)*100:.1f}%\", \n",
    "            f\"{((total_fornecedores_cadastrados - fornecedores_ativos)/total_fornecedores_cadastrados)*100:.1f}%\"\n",
    "        ]\n",
    "    })\n",
    "\n",
    "    display(analise_ociosidade)\n",
    "\n",
    "    display(Markdown(\"###  INSIGHTS ESTRATÉGICOS:\"))\n",
    "\n",
    "    insights = [\n",
    "        f\" **{analise_ociosidade.iloc[0]['% Ociosos']} dos produtos não foram comprados** - oportunidade para revisão de catálogo\",\n",
    "        f\" **{analise_ociosidade.iloc[1]['% Ociosos']} das instituições inativas** - oportunidade para prospecção comercial\", \n",
    "        f\" **{analise_ociosidade.iloc[2]['% Ociosos']} dos fornecedores ociosos** - avaliar parcerias estratégicas\",\n",
    "        f\" **Foco nos ativos:** {produtos_ativos:,} produtos geraram R$ {df_final['preco_total'].sum():,.0f}Bi em {len(df_final):,} transações\",\n",
    "        f\" **Alta concentração de valor** em poucos produtos/fornecedores ativos - confirme com seu Pareto no Dashboard\"\n",
    "    ]\n",
    "\n",
    "    for insight in insights:\n",
    "        display(Markdown(f\"- {insight}\"))\n",
    "    \n",
    "   \n",
    "    # Executar modelagem\n",
    "    df_final = executar_modelagem_completa(df)\n",
    "    \n",
    "    # Salvar resultado\n",
    "    display(Markdown(\"### Salvando resultados...\"))\n",
    "    caminho_saida = r'C:\\Users\\debor\\OneDrive\\Github\\compras_medicamentos_sus\\data\\outputs\\compras_modeladas_final.csv'\n",
    "    df_final.to_csv(caminho_saida, sep=';', index=False)\n",
    "    display(Markdown(f\"✅ **Dados modelados salvos em:** {caminho_saida}\"))\n",
    "\n",
    "else:\n",
    "    display(Markdown(\"❌ **Não foi possível carregar os dados para modelagem.**\"))"
   ]
  }
 ],
 "metadata": {
  "kernelspec": {
   "display_name": "Python 3",
   "language": "python",
   "name": "python3"
  },
  "language_info": {
   "codemirror_mode": {
    "name": "ipython",
    "version": 3
   },
   "file_extension": ".py",
   "mimetype": "text/x-python",
   "name": "python",
   "nbconvert_exporter": "python",
   "pygments_lexer": "ipython3",
   "version": "3.13.3"
  }
 },
 "nbformat": 4,
 "nbformat_minor": 5
}
